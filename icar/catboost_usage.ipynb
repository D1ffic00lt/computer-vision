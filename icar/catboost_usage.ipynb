{
 "cells": [
  {
   "cell_type": "code",
   "execution_count": 106,
   "metadata": {
    "collapsed": true
   },
   "outputs": [],
   "source": [
    "import pandas as pd\n",
    "import matplotlib.pyplot as plt\n",
    "from catboost import CatBoostClassifier\n",
    "from sklearn.metrics import classification_report\n",
    "from sklearn.model_selection import train_test_split\n",
    "from sklearn.linear_model import LogisticRegression"
   ]
  },
  {
   "cell_type": "code",
   "execution_count": 92,
   "outputs": [],
   "source": [
    "data = pd.read_csv(\"gestures3.csv\")"
   ],
   "metadata": {
    "collapsed": false
   }
  },
  {
   "cell_type": "code",
   "execution_count": 93,
   "outputs": [
    {
     "data": {
      "text/plain": "    wrist_y  palm_center_y   thumb_y   index_y  middle_y    ring_y   pinky_y  \\\n0  0.636178       0.555995  0.574688  0.510982  0.589794  0.639872  0.681020   \n1  0.655754       0.568450  0.583999  0.520278  0.600889  0.649576  0.693260   \n2  0.644441       0.554956  0.580864  0.510056  0.593543  0.640469  0.683117   \n3  0.631938       0.545628  0.564051  0.500018  0.590557  0.633844  0.676950   \n4  0.623736       0.533564  0.568559  0.490874  0.581730  0.619657  0.661414   \n\n  target  \n0   left  \n1   left  \n2   left  \n3   left  \n4   left  ",
      "text/html": "<div>\n<style scoped>\n    .dataframe tbody tr th:only-of-type {\n        vertical-align: middle;\n    }\n\n    .dataframe tbody tr th {\n        vertical-align: top;\n    }\n\n    .dataframe thead th {\n        text-align: right;\n    }\n</style>\n<table border=\"1\" class=\"dataframe\">\n  <thead>\n    <tr style=\"text-align: right;\">\n      <th></th>\n      <th>wrist_y</th>\n      <th>palm_center_y</th>\n      <th>thumb_y</th>\n      <th>index_y</th>\n      <th>middle_y</th>\n      <th>ring_y</th>\n      <th>pinky_y</th>\n      <th>target</th>\n    </tr>\n  </thead>\n  <tbody>\n    <tr>\n      <th>0</th>\n      <td>0.636178</td>\n      <td>0.555995</td>\n      <td>0.574688</td>\n      <td>0.510982</td>\n      <td>0.589794</td>\n      <td>0.639872</td>\n      <td>0.681020</td>\n      <td>left</td>\n    </tr>\n    <tr>\n      <th>1</th>\n      <td>0.655754</td>\n      <td>0.568450</td>\n      <td>0.583999</td>\n      <td>0.520278</td>\n      <td>0.600889</td>\n      <td>0.649576</td>\n      <td>0.693260</td>\n      <td>left</td>\n    </tr>\n    <tr>\n      <th>2</th>\n      <td>0.644441</td>\n      <td>0.554956</td>\n      <td>0.580864</td>\n      <td>0.510056</td>\n      <td>0.593543</td>\n      <td>0.640469</td>\n      <td>0.683117</td>\n      <td>left</td>\n    </tr>\n    <tr>\n      <th>3</th>\n      <td>0.631938</td>\n      <td>0.545628</td>\n      <td>0.564051</td>\n      <td>0.500018</td>\n      <td>0.590557</td>\n      <td>0.633844</td>\n      <td>0.676950</td>\n      <td>left</td>\n    </tr>\n    <tr>\n      <th>4</th>\n      <td>0.623736</td>\n      <td>0.533564</td>\n      <td>0.568559</td>\n      <td>0.490874</td>\n      <td>0.581730</td>\n      <td>0.619657</td>\n      <td>0.661414</td>\n      <td>left</td>\n    </tr>\n  </tbody>\n</table>\n</div>"
     },
     "execution_count": 93,
     "metadata": {},
     "output_type": "execute_result"
    }
   ],
   "source": [
    "data.head()"
   ],
   "metadata": {
    "collapsed": false
   }
  },
  {
   "cell_type": "code",
   "execution_count": 94,
   "outputs": [
    {
     "data": {
      "text/plain": "wrist_y          float64\npalm_center_y    float64\nthumb_y          float64\nindex_y          float64\nmiddle_y         float64\nring_y           float64\npinky_y          float64\ntarget            object\ndtype: object"
     },
     "execution_count": 94,
     "metadata": {},
     "output_type": "execute_result"
    }
   ],
   "source": [
    "data.dtypes"
   ],
   "metadata": {
    "collapsed": false
   }
  },
  {
   "cell_type": "code",
   "execution_count": 96,
   "outputs": [],
   "source": [
    "r = pd.read_csv(\"right.csv\")"
   ],
   "metadata": {
    "collapsed": false
   }
  },
  {
   "cell_type": "code",
   "execution_count": 78,
   "outputs": [],
   "source": [
    "lr = pd.read_csv(\"left+right.csv\")"
   ],
   "metadata": {
    "collapsed": false
   }
  },
  {
   "cell_type": "code",
   "execution_count": 79,
   "outputs": [
    {
     "data": {
      "text/plain": "(1845, 8)"
     },
     "execution_count": 79,
     "metadata": {},
     "output_type": "execute_result"
    }
   ],
   "source": [
    "lr.shape"
   ],
   "metadata": {
    "collapsed": false
   }
  },
  {
   "cell_type": "code",
   "execution_count": 97,
   "outputs": [],
   "source": [
    "data_all = pd.concat([data, lr, r])"
   ],
   "metadata": {
    "collapsed": false
   }
  },
  {
   "cell_type": "code",
   "execution_count": 98,
   "outputs": [
    {
     "data": {
      "text/plain": "(12189, 8)"
     },
     "execution_count": 98,
     "metadata": {},
     "output_type": "execute_result"
    }
   ],
   "source": [
    "data_all.shape"
   ],
   "metadata": {
    "collapsed": false
   }
  },
  {
   "cell_type": "code",
   "execution_count": 99,
   "outputs": [
    {
     "data": {
      "text/plain": "<Figure size 640x480 with 1 Axes>",
      "image/png": "[encoded data removed]"
     },
     "metadata": {},
     "output_type": "display_data"
    }
   ],
   "source": [
    "plt.pie(data_all.target.value_counts(), labels=data_all.target.value_counts().index);"
   ],
   "metadata": {
    "collapsed": false
   }
  },
  {
   "cell_type": "code",
   "execution_count": 100,
   "outputs": [],
   "source": [
    "model = CatBoostClassifier()"
   ],
   "metadata": {
    "collapsed": false
   }
  },
  {
   "cell_type": "code",
   "execution_count": 101,
   "outputs": [],
   "source": [
    "X_train, X_test, y_train, y_test = train_test_split(\n",
    "    data.drop(\"target\", axis=1), data.target, test_size=0.1, random_state=42, stratify=data.target\n",
    ")"
   ],
   "metadata": {
    "collapsed": false
   }
  },
  {
   "cell_type": "code",
   "execution_count": 102,
   "outputs": [
    {
     "data": {
      "text/plain": "<catboost.core.CatBoostClassifier at 0x1391c6250>"
     },
     "execution_count": 102,
     "metadata": {},
     "output_type": "execute_result"
    }
   ],
   "source": [
    "model.fit(X_train, y_train, verbose=False)"
   ],
   "metadata": {
    "collapsed": false
   }
  },
  {
   "cell_type": "code",
   "execution_count": 103,
   "outputs": [
    {
     "name": "stdout",
     "output_type": "stream",
     "text": [
      "              precision    recall  f1-score   support\n",
      "\n",
      "        back       1.00      0.99      1.00       127\n",
      "     forward       0.90      0.96      0.93       207\n",
      "        left       0.88      0.92      0.89       200\n",
      "     nothing       0.97      0.86      0.91       138\n",
      "       right       0.83      0.85      0.84       171\n",
      "        stop       0.94      0.87      0.90       121\n",
      "\n",
      "    accuracy                           0.91       964\n",
      "   macro avg       0.92      0.91      0.91       964\n",
      "weighted avg       0.91      0.91      0.91       964\n",
      "\n"
     ]
    }
   ],
   "source": [
    "print(classification_report(y_test, model.predict(X_test)))"
   ],
   "metadata": {
    "collapsed": false
   }
  },
  {
   "cell_type": "code",
   "execution_count": null,
   "outputs": [],
   "source": [
    "model = CatBoostClassifier()\n",
    "model.fit(data.drop(\"target\", axis=1), data.target, verbose=False)"
   ],
   "metadata": {
    "collapsed": false,
    "pycharm": {
     "is_executing": true
    }
   }
  },
  {
   "cell_type": "code",
   "execution_count": null,
   "outputs": [],
   "source": [
    "import pickle\n",
    "with open(\"model6.bf\", \"wb\") as file:\n",
    "    pickle.dump(model, file)"
   ],
   "metadata": {
    "collapsed": false,
    "pycharm": {
     "is_executing": true
    }
   }
  },
  {
   "cell_type": "code",
   "execution_count": 107,
   "outputs": [
    {
     "name": "stderr",
     "output_type": "stream",
     "text": [
      "/Library/Frameworks/Python.framework/Versions/3.11/lib/python3.11/site-packages/sklearn/linear_model/_logistic.py:458: ConvergenceWarning: lbfgs failed to converge (status=1):\n",
      "STOP: TOTAL NO. of ITERATIONS REACHED LIMIT.\n",
      "\n",
      "Increase the number of iterations (max_iter) or scale the data as shown in:\n",
      "    https://scikit-learn.org/stable/modules/preprocessing.html\n",
      "Please also refer to the documentation for alternative solver options:\n",
      "    https://scikit-learn.org/stable/modules/linear_model.html#logistic-regression\n",
      "  n_iter_i = _check_optimize_result(\n"
     ]
    },
    {
     "data": {
      "text/plain": "LogisticRegression()",
      "text/html": "<style>#sk-container-id-1 {color: black;background-color: white;}#sk-container-id-1 pre{padding: 0;}#sk-container-id-1 div.sk-toggleable {background-color: white;}#sk-container-id-1 label.sk-toggleable__label {cursor: pointer;display: block;width: 100%;margin-bottom: 0;padding: 0.3em;box-sizing: border-box;text-align: center;}#sk-container-id-1 label.sk-toggleable__label-arrow:before {content: \"▸\";float: left;margin-right: 0.25em;color: #696969;}#sk-container-id-1 label.sk-toggleable__label-arrow:hover:before {color: black;}#sk-container-id-1 div.sk-estimator:hover label.sk-toggleable__label-arrow:before {color: black;}#sk-container-id-1 div.sk-toggleable__content {max-height: 0;max-width: 0;overflow: hidden;text-align: left;background-color: #f0f8ff;}#sk-container-id-1 div.sk-toggleable__content pre {margin: 0.2em;color: black;border-radius: 0.25em;background-color: #f0f8ff;}#sk-container-id-1 input.sk-toggleable__control:checked~div.sk-toggleable__content {max-height: 200px;max-width: 100%;overflow: auto;}#sk-container-id-1 input.sk-toggleable__control:checked~label.sk-toggleable__label-arrow:before {content: \"▾\";}#sk-container-id-1 div.sk-estimator input.sk-toggleable__control:checked~label.sk-toggleable__label {background-color: #d4ebff;}#sk-container-id-1 div.sk-label input.sk-toggleable__control:checked~label.sk-toggleable__label {background-color: #d4ebff;}#sk-container-id-1 input.sk-hidden--visually {border: 0;clip: rect(1px 1px 1px 1px);clip: rect(1px, 1px, 1px, 1px);height: 1px;margin: -1px;overflow: hidden;padding: 0;position: absolute;width: 1px;}#sk-container-id-1 div.sk-estimator {font-family: monospace;background-color: #f0f8ff;border: 1px dotted black;border-radius: 0.25em;box-sizing: border-box;margin-bottom: 0.5em;}#sk-container-id-1 div.sk-estimator:hover {background-color: #d4ebff;}#sk-container-id-1 div.sk-parallel-item::after {content: \"\";width: 100%;border-bottom: 1px solid gray;flex-grow: 1;}#sk-container-id-1 div.sk-label:hover label.sk-toggleable__label {background-color: #d4ebff;}#sk-container-id-1 div.sk-serial::before {content: \"\";position: absolute;border-left: 1px solid gray;box-sizing: border-box;top: 0;bottom: 0;left: 50%;z-index: 0;}#sk-container-id-1 div.sk-serial {display: flex;flex-direction: column;align-items: center;background-color: white;padding-right: 0.2em;padding-left: 0.2em;position: relative;}#sk-container-id-1 div.sk-item {position: relative;z-index: 1;}#sk-container-id-1 div.sk-parallel {display: flex;align-items: stretch;justify-content: center;background-color: white;position: relative;}#sk-container-id-1 div.sk-item::before, #sk-container-id-1 div.sk-parallel-item::before {content: \"\";position: absolute;border-left: 1px solid gray;box-sizing: border-box;top: 0;bottom: 0;left: 50%;z-index: -1;}#sk-container-id-1 div.sk-parallel-item {display: flex;flex-direction: column;z-index: 1;position: relative;background-color: white;}#sk-container-id-1 div.sk-parallel-item:first-child::after {align-self: flex-end;width: 50%;}#sk-container-id-1 div.sk-parallel-item:last-child::after {align-self: flex-start;width: 50%;}#sk-container-id-1 div.sk-parallel-item:only-child::after {width: 0;}#sk-container-id-1 div.sk-dashed-wrapped {border: 1px dashed gray;margin: 0 0.4em 0.5em 0.4em;box-sizing: border-box;padding-bottom: 0.4em;background-color: white;}#sk-container-id-1 div.sk-label label {font-family: monospace;font-weight: bold;display: inline-block;line-height: 1.2em;}#sk-container-id-1 div.sk-label-container {text-align: center;}#sk-container-id-1 div.sk-container {/* jupyter's `normalize.less` sets `[hidden] { display: none; }` but bootstrap.min.css set `[hidden] { display: none !important; }` so we also need the `!important` here to be able to override the default hidden behavior on the sphinx rendered scikit-learn.org. See: https://github.com/scikit-learn/scikit-learn/issues/21755 */display: inline-block !important;position: relative;}#sk-container-id-1 div.sk-text-repr-fallback {display: none;}</style><div id=\"sk-container-id-1\" class=\"sk-top-container\"><div class=\"sk-text-repr-fallback\"><pre>LogisticRegression()</pre><b>In a Jupyter environment, please rerun this cell to show the HTML representation or trust the notebook. <br />On GitHub, the HTML representation is unable to render, please try loading this page with nbviewer.org.</b></div><div class=\"sk-container\" hidden><div class=\"sk-item\"><div class=\"sk-estimator sk-toggleable\"><input class=\"sk-toggleable__control sk-hidden--visually\" id=\"sk-estimator-id-1\" type=\"checkbox\" checked><label for=\"sk-estimator-id-1\" class=\"sk-toggleable__label sk-toggleable__label-arrow\">LogisticRegression</label><div class=\"sk-toggleable__content\"><pre>LogisticRegression()</pre></div></div></div></div></div>"
     },
     "execution_count": 107,
     "metadata": {},
     "output_type": "execute_result"
    }
   ],
   "source": [
    "model_l = LogisticRegression()\n",
    "model_l.fit(X_train, y_train)"
   ],
   "metadata": {
    "collapsed": false
   }
  },
  {
   "cell_type": "code",
   "execution_count": 109,
   "outputs": [
    {
     "name": "stdout",
     "output_type": "stream",
     "text": [
      "              precision    recall  f1-score   support\n",
      "\n",
      "        back       0.98      0.99      0.98       127\n",
      "     forward       0.62      0.85      0.72       207\n",
      "        left       0.50      0.59      0.54       200\n",
      "     nothing       0.67      0.61      0.64       138\n",
      "       right       0.40      0.29      0.34       171\n",
      "        stop       0.77      0.38      0.51       121\n",
      "\n",
      "    accuracy                           0.62       964\n",
      "   macro avg       0.65      0.62      0.62       964\n",
      "weighted avg       0.63      0.62      0.61       964\n",
      "\n"
     ]
    }
   ],
   "source": [
    "print(classification_report(y_test, model_l.predict(X_test)))"
   ],
   "metadata": {
    "collapsed": false
   }
  },
  {
   "cell_type": "code",
   "execution_count": 131,
   "outputs": [
    {
     "name": "stdout",
     "output_type": "stream",
     "text": [
      "0:\tlearn: 1.6670184\ttotal: 6.08ms\tremaining: 6.08s\n",
      "10:\tlearn: 1.2188927\ttotal: 49.6ms\tremaining: 4.46s\n",
      "20:\tlearn: 1.0591885\ttotal: 91.3ms\tremaining: 4.25s\n",
      "30:\tlearn: 0.9674644\ttotal: 136ms\tremaining: 4.26s\n",
      "40:\tlearn: 0.8987948\ttotal: 173ms\tremaining: 4.05s\n",
      "50:\tlearn: 0.8464289\ttotal: 214ms\tremaining: 3.98s\n",
      "60:\tlearn: 0.8040664\ttotal: 253ms\tremaining: 3.9s\n",
      "70:\tlearn: 0.7659377\ttotal: 294ms\tremaining: 3.84s\n",
      "80:\tlearn: 0.7365439\ttotal: 329ms\tremaining: 3.74s\n",
      "90:\tlearn: 0.7100840\ttotal: 366ms\tremaining: 3.65s\n",
      "100:\tlearn: 0.6825659\ttotal: 402ms\tremaining: 3.58s\n",
      "110:\tlearn: 0.6620662\ttotal: 439ms\tremaining: 3.51s\n",
      "120:\tlearn: 0.6358019\ttotal: 476ms\tremaining: 3.46s\n",
      "130:\tlearn: 0.6148340\ttotal: 514ms\tremaining: 3.41s\n",
      "140:\tlearn: 0.5955130\ttotal: 550ms\tremaining: 3.35s\n",
      "150:\tlearn: 0.5789485\ttotal: 590ms\tremaining: 3.31s\n",
      "160:\tlearn: 0.5619512\ttotal: 626ms\tremaining: 3.26s\n",
      "170:\tlearn: 0.5430156\ttotal: 663ms\tremaining: 3.21s\n",
      "180:\tlearn: 0.5328077\ttotal: 700ms\tremaining: 3.17s\n",
      "190:\tlearn: 0.5204074\ttotal: 736ms\tremaining: 3.12s\n",
      "200:\tlearn: 0.5017027\ttotal: 771ms\tremaining: 3.06s\n",
      "210:\tlearn: 0.4874378\ttotal: 807ms\tremaining: 3.02s\n",
      "220:\tlearn: 0.4748830\ttotal: 842ms\tremaining: 2.97s\n",
      "230:\tlearn: 0.4642806\ttotal: 878ms\tremaining: 2.92s\n",
      "240:\tlearn: 0.4528060\ttotal: 915ms\tremaining: 2.88s\n",
      "250:\tlearn: 0.4452175\ttotal: 951ms\tremaining: 2.84s\n",
      "260:\tlearn: 0.4331183\ttotal: 987ms\tremaining: 2.79s\n",
      "270:\tlearn: 0.4229544\ttotal: 1.02s\tremaining: 2.75s\n",
      "280:\tlearn: 0.4136541\ttotal: 1.06s\tremaining: 2.71s\n",
      "290:\tlearn: 0.4041445\ttotal: 1.09s\tremaining: 2.67s\n",
      "300:\tlearn: 0.3956550\ttotal: 1.13s\tremaining: 2.63s\n",
      "310:\tlearn: 0.3877034\ttotal: 1.17s\tremaining: 2.59s\n",
      "320:\tlearn: 0.3785562\ttotal: 1.2s\tremaining: 2.55s\n",
      "330:\tlearn: 0.3727360\ttotal: 1.24s\tremaining: 2.51s\n",
      "340:\tlearn: 0.3666087\ttotal: 1.27s\tremaining: 2.46s\n",
      "350:\tlearn: 0.3599980\ttotal: 1.31s\tremaining: 2.42s\n",
      "360:\tlearn: 0.3537976\ttotal: 1.35s\tremaining: 2.38s\n",
      "370:\tlearn: 0.3494872\ttotal: 1.38s\tremaining: 2.34s\n",
      "380:\tlearn: 0.3426980\ttotal: 1.42s\tremaining: 2.31s\n",
      "390:\tlearn: 0.3359244\ttotal: 1.46s\tremaining: 2.27s\n",
      "400:\tlearn: 0.3303855\ttotal: 1.49s\tremaining: 2.23s\n",
      "410:\tlearn: 0.3242850\ttotal: 1.53s\tremaining: 2.19s\n",
      "420:\tlearn: 0.3189352\ttotal: 1.56s\tremaining: 2.15s\n",
      "430:\tlearn: 0.3139666\ttotal: 1.6s\tremaining: 2.11s\n",
      "440:\tlearn: 0.3080013\ttotal: 1.64s\tremaining: 2.07s\n",
      "450:\tlearn: 0.3028086\ttotal: 1.67s\tremaining: 2.03s\n",
      "460:\tlearn: 0.2981760\ttotal: 1.71s\tremaining: 1.99s\n",
      "470:\tlearn: 0.2929017\ttotal: 1.74s\tremaining: 1.96s\n",
      "480:\tlearn: 0.2886991\ttotal: 1.78s\tremaining: 1.92s\n",
      "490:\tlearn: 0.2847109\ttotal: 1.81s\tremaining: 1.88s\n",
      "500:\tlearn: 0.2800920\ttotal: 1.85s\tremaining: 1.84s\n",
      "510:\tlearn: 0.2768194\ttotal: 1.88s\tremaining: 1.8s\n",
      "520:\tlearn: 0.2724883\ttotal: 1.92s\tremaining: 1.76s\n",
      "530:\tlearn: 0.2683841\ttotal: 1.96s\tremaining: 1.73s\n",
      "540:\tlearn: 0.2645862\ttotal: 1.99s\tremaining: 1.69s\n",
      "550:\tlearn: 0.2608208\ttotal: 2.03s\tremaining: 1.65s\n",
      "560:\tlearn: 0.2573117\ttotal: 2.06s\tremaining: 1.62s\n",
      "570:\tlearn: 0.2537210\ttotal: 2.1s\tremaining: 1.58s\n",
      "580:\tlearn: 0.2509654\ttotal: 2.13s\tremaining: 1.54s\n",
      "590:\tlearn: 0.2471084\ttotal: 2.17s\tremaining: 1.5s\n",
      "600:\tlearn: 0.2436701\ttotal: 2.21s\tremaining: 1.47s\n",
      "610:\tlearn: 0.2397257\ttotal: 2.24s\tremaining: 1.43s\n",
      "620:\tlearn: 0.2370968\ttotal: 2.28s\tremaining: 1.39s\n",
      "630:\tlearn: 0.2338834\ttotal: 2.31s\tremaining: 1.35s\n",
      "640:\tlearn: 0.2308750\ttotal: 2.35s\tremaining: 1.31s\n",
      "650:\tlearn: 0.2278206\ttotal: 2.38s\tremaining: 1.28s\n",
      "660:\tlearn: 0.2250965\ttotal: 2.42s\tremaining: 1.24s\n",
      "670:\tlearn: 0.2227217\ttotal: 2.45s\tremaining: 1.2s\n",
      "680:\tlearn: 0.2198447\ttotal: 2.49s\tremaining: 1.17s\n",
      "690:\tlearn: 0.2168465\ttotal: 2.52s\tremaining: 1.13s\n",
      "700:\tlearn: 0.2147983\ttotal: 2.56s\tremaining: 1.09s\n",
      "710:\tlearn: 0.2123369\ttotal: 2.59s\tremaining: 1.05s\n",
      "720:\tlearn: 0.2103771\ttotal: 2.63s\tremaining: 1.02s\n",
      "730:\tlearn: 0.2084870\ttotal: 2.67s\tremaining: 981ms\n",
      "740:\tlearn: 0.2074022\ttotal: 2.7s\tremaining: 944ms\n",
      "750:\tlearn: 0.2053581\ttotal: 2.73s\tremaining: 907ms\n",
      "760:\tlearn: 0.2032529\ttotal: 2.77s\tremaining: 869ms\n",
      "770:\tlearn: 0.2011004\ttotal: 2.8s\tremaining: 833ms\n",
      "780:\tlearn: 0.1988999\ttotal: 2.84s\tremaining: 796ms\n",
      "790:\tlearn: 0.1969186\ttotal: 2.88s\tremaining: 760ms\n",
      "800:\tlearn: 0.1943653\ttotal: 2.91s\tremaining: 723ms\n",
      "810:\tlearn: 0.1920262\ttotal: 2.94s\tremaining: 686ms\n",
      "820:\tlearn: 0.1902177\ttotal: 2.98s\tremaining: 650ms\n",
      "830:\tlearn: 0.1879184\ttotal: 3.02s\tremaining: 614ms\n",
      "840:\tlearn: 0.1855701\ttotal: 3.05s\tremaining: 577ms\n",
      "850:\tlearn: 0.1837702\ttotal: 3.09s\tremaining: 541ms\n",
      "860:\tlearn: 0.1816040\ttotal: 3.12s\tremaining: 504ms\n",
      "870:\tlearn: 0.1794929\ttotal: 3.16s\tremaining: 468ms\n",
      "880:\tlearn: 0.1778859\ttotal: 3.19s\tremaining: 431ms\n",
      "890:\tlearn: 0.1761912\ttotal: 3.23s\tremaining: 395ms\n",
      "900:\tlearn: 0.1745962\ttotal: 3.26s\tremaining: 358ms\n",
      "910:\tlearn: 0.1729876\ttotal: 3.3s\tremaining: 322ms\n",
      "920:\tlearn: 0.1720329\ttotal: 3.33s\tremaining: 286ms\n",
      "930:\tlearn: 0.1701262\ttotal: 3.37s\tremaining: 249ms\n",
      "940:\tlearn: 0.1690374\ttotal: 3.4s\tremaining: 213ms\n",
      "950:\tlearn: 0.1676423\ttotal: 3.44s\tremaining: 177ms\n",
      "960:\tlearn: 0.1660250\ttotal: 3.47s\tremaining: 141ms\n",
      "970:\tlearn: 0.1646917\ttotal: 3.51s\tremaining: 105ms\n",
      "980:\tlearn: 0.1630823\ttotal: 3.54s\tremaining: 68.6ms\n",
      "990:\tlearn: 0.1618281\ttotal: 3.58s\tremaining: 32.5ms\n",
      "999:\tlearn: 0.1601563\ttotal: 3.61s\tremaining: 0us\n"
     ]
    },
    {
     "data": {
      "text/plain": "<catboost.core.CatBoostClassifier at 0x1393ea950>"
     },
     "execution_count": 131,
     "metadata": {},
     "output_type": "execute_result"
    }
   ],
   "source": [
    "model = CatBoostClassifier(verbose=10, learning_rate=0.1)\n",
    "model.fit(X_train, y_train)"
   ],
   "metadata": {
    "collapsed": false
   }
  },
  {
   "cell_type": "code",
   "execution_count": 132,
   "outputs": [
    {
     "name": "stdout",
     "output_type": "stream",
     "text": [
      "              precision    recall  f1-score   support\n",
      "\n",
      "        back       1.00      0.99      1.00       127\n",
      "     forward       0.90      0.96      0.93       207\n",
      "        left       0.88      0.93      0.90       200\n",
      "     nothing       0.98      0.88      0.93       138\n",
      "       right       0.83      0.85      0.84       171\n",
      "        stop       0.95      0.86      0.90       121\n",
      "\n",
      "    accuracy                           0.91       964\n",
      "   macro avg       0.92      0.91      0.92       964\n",
      "weighted avg       0.92      0.91      0.91       964\n",
      "\n"
     ]
    }
   ],
   "source": [
    "print(classification_report(y_test, model.predict(X_test)))"
   ],
   "metadata": {
    "collapsed": false
   }
  },
  {
   "cell_type": "code",
   "execution_count": null,
   "outputs": [],
   "source": [],
   "metadata": {
    "collapsed": false
   }
  }
 ],
 "metadata": {
  "kernelspec": {
   "display_name": "Python 3",
   "language": "python",
   "name": "python3"
  },
  "language_info": {
   "codemirror_mode": {
    "name": "ipython",
    "version": 2
   },
   "file_extension": ".py",
   "mimetype": "text/x-python",
   "name": "python",
   "nbconvert_exporter": "python",
   "pygments_lexer": "ipython2",
   "version": "2.7.6"
  }
 },
 "nbformat": 4,
 "nbformat_minor": 0
}
