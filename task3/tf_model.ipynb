{
 "nbformat": 4,
 "nbformat_minor": 0,
 "metadata": {
  "colab": {
   "provenance": [],
   "machine_shape": "hm",
   "gpuType": "V100"
  },
  "kernelspec": {
   "name": "python3",
   "display_name": "Python 3"
  },
  "language_info": {
   "name": "python"
  },
  "accelerator": "GPU"
 },
 "cells": [
  {
   "cell_type": "code",
   "source": [
    "!pip install livelossplot"
   ],
   "metadata": {
    "colab": {
     "base_uri": "https://localhost:8080/"
    },
    "id": "nyhOWwtI4SCZ",
    "outputId": "ef8fdddd-153a-486b-d90d-4e29fa4f5008"
   },
   "execution_count": 87,
   "outputs": [
    {
     "output_type": "stream",
     "name": "stdout",
     "text": [
      "Requirement already satisfied: livelossplot in /usr/local/lib/python3.10/dist-packages (0.5.5)\n",
      "Requirement already satisfied: matplotlib in /usr/local/lib/python3.10/dist-packages (from livelossplot) (3.7.1)\n",
      "Requirement already satisfied: bokeh in /usr/local/lib/python3.10/dist-packages (from livelossplot) (3.1.1)\n",
      "Requirement already satisfied: Jinja2>=2.9 in /usr/local/lib/python3.10/dist-packages (from bokeh->livelossplot) (3.1.2)\n",
      "Requirement already satisfied: contourpy>=1 in /usr/local/lib/python3.10/dist-packages (from bokeh->livelossplot) (1.1.0)\n",
      "Requirement already satisfied: numpy>=1.16 in /usr/local/lib/python3.10/dist-packages (from bokeh->livelossplot) (1.22.4)\n",
      "Requirement already satisfied: packaging>=16.8 in /usr/local/lib/python3.10/dist-packages (from bokeh->livelossplot) (23.1)\n",
      "Requirement already satisfied: pandas>=1.2 in /usr/local/lib/python3.10/dist-packages (from bokeh->livelossplot) (1.5.3)\n",
      "Requirement already satisfied: pillow>=7.1.0 in /usr/local/lib/python3.10/dist-packages (from bokeh->livelossplot) (9.4.0)\n",
      "Requirement already satisfied: PyYAML>=3.10 in /usr/local/lib/python3.10/dist-packages (from bokeh->livelossplot) (6.0.1)\n",
      "Requirement already satisfied: tornado>=5.1 in /usr/local/lib/python3.10/dist-packages (from bokeh->livelossplot) (6.3.1)\n",
      "Requirement already satisfied: xyzservices>=2021.09.1 in /usr/local/lib/python3.10/dist-packages (from bokeh->livelossplot) (2023.7.0)\n",
      "Requirement already satisfied: cycler>=0.10 in /usr/local/lib/python3.10/dist-packages (from matplotlib->livelossplot) (0.11.0)\n",
      "Requirement already satisfied: fonttools>=4.22.0 in /usr/local/lib/python3.10/dist-packages (from matplotlib->livelossplot) (4.41.1)\n",
      "Requirement already satisfied: kiwisolver>=1.0.1 in /usr/local/lib/python3.10/dist-packages (from matplotlib->livelossplot) (1.4.4)\n",
      "Requirement already satisfied: pyparsing>=2.3.1 in /usr/local/lib/python3.10/dist-packages (from matplotlib->livelossplot) (3.1.0)\n",
      "Requirement already satisfied: python-dateutil>=2.7 in /usr/local/lib/python3.10/dist-packages (from matplotlib->livelossplot) (2.8.2)\n",
      "Requirement already satisfied: MarkupSafe>=2.0 in /usr/local/lib/python3.10/dist-packages (from Jinja2>=2.9->bokeh->livelossplot) (2.1.3)\n",
      "Requirement already satisfied: pytz>=2020.1 in /usr/local/lib/python3.10/dist-packages (from pandas>=1.2->bokeh->livelossplot) (2022.7.1)\n",
      "Requirement already satisfied: six>=1.5 in /usr/local/lib/python3.10/dist-packages (from python-dateutil>=2.7->matplotlib->livelossplot) (1.16.0)\n"
     ]
    }
   ]
  },
  {
   "cell_type": "code",
   "source": [
    "import numpy as np\n",
    "import pandas as pd\n",
    "import matplotlib.pylab as plt\n",
    "import warnings\n",
    "import pickle\n",
    "import tensorflow as tf\n",
    "import cv2\n",
    "import random\n",
    "\n",
    "\n",
    "from PIL import Image, ImageEnhance, ImageOps\n",
    "from tensorflow.keras.preprocessing.image import ImageDataGenerator\n",
    "from livelossplot import PlotLossesKeras\n",
    "from pathlib import Path\n",
    "from sklearn.model_selection import train_test_split\n",
    "from PIL import Image\n",
    "from tqdm import tqdm\n",
    "from sklearn.preprocessing import LabelEncoder\n",
    "\n",
    "warnings.filterwarnings('ignore')"
   ],
   "metadata": {
    "id": "bMVNEHK7GHFZ"
   },
   "execution_count": 5,
   "outputs": []
  },
  {
   "cell_type": "code",
   "source": [
    "from google.colab import drive\n",
    "drive.mount('/content/drive')"
   ],
   "metadata": {
    "colab": {
     "base_uri": "https://localhost:8080/"
    },
    "id": "09Q93JiDz-CF",
    "outputId": "aafdee6d-62c3-4c18-b12f-197e2c4a3825"
   },
   "execution_count": 79,
   "outputs": [
    {
     "output_type": "stream",
     "name": "stdout",
     "text": [
      "Mounted at /content/drive\n"
     ]
    }
   ]
  },
  {
   "cell_type": "code",
   "source": [
    "data = pd.read_csv(\"annotations.csv\")"
   ],
   "metadata": {
    "id": "W5WbDR1K0GaM"
   },
   "execution_count": 6,
   "outputs": []
  },
  {
   "cell_type": "code",
   "source": [
    "data.head()"
   ],
   "metadata": {
    "colab": {
     "base_uri": "https://localhost:8080/",
     "height": 201
    },
    "id": "DRDuIByG31W3",
    "outputId": "a9ac694b-a20b-4d2d-94ac-2e6ea3322a58"
   },
   "execution_count": 7,
   "outputs": [
    {
     "output_type": "execute_result",
     "data": {
      "text/plain": [
       "                                             image                 class\n",
       "0  images/p7FhNESI-2TX5-aXiT-9nNv-f7LJlzc9BgqO.jpg  artificial_roughness\n",
       "1  images/XJV2G0zl-scMm-HsbL-ovdy-J4mvzVQBO5uF.jpg  artificial_roughness\n",
       "2  images/Yp1H0brV-VXZB-SZTa-PcFZ-Nes25RWxLgM4.jpg  artificial_roughness\n",
       "3  images/VhuQ8Uqi-XxbK-TJwS-j5RN-ApJqVTBg0lbZ.jpg  artificial_roughness\n",
       "4  images/LudjvYTM-V03e-BeaZ-6Sfj-bpeRzYmtG8Ew.jpg  artificial_roughness"
      ],
      "text/html": [
       "\n",
       "\n",
       "  <div id=\"df-a9a56140-2498-4f7a-8fc4-59c55ced80a5\">\n",
       "    <div class=\"colab-df-container\">\n",
       "      <div>\n",
       "<style scoped>\n",
       "    .dataframe tbody tr th:only-of-type {\n",
       "        vertical-align: middle;\n",
       "    }\n",
       "\n",
       "    .dataframe tbody tr th {\n",
       "        vertical-align: top;\n",
       "    }\n",
       "\n",
       "    .dataframe thead th {\n",
       "        text-align: right;\n",
       "    }\n",
       "</style>\n",
       "<table border=\"1\" class=\"dataframe\">\n",
       "  <thead>\n",
       "    <tr style=\"text-align: right;\">\n",
       "      <th></th>\n",
       "      <th>image</th>\n",
       "      <th>class</th>\n",
       "    </tr>\n",
       "  </thead>\n",
       "  <tbody>\n",
       "    <tr>\n",
       "      <th>0</th>\n",
       "      <td>images/p7FhNESI-2TX5-aXiT-9nNv-f7LJlzc9BgqO.jpg</td>\n",
       "      <td>artificial_roughness</td>\n",
       "    </tr>\n",
       "    <tr>\n",
       "      <th>1</th>\n",
       "      <td>images/XJV2G0zl-scMm-HsbL-ovdy-J4mvzVQBO5uF.jpg</td>\n",
       "      <td>artificial_roughness</td>\n",
       "    </tr>\n",
       "    <tr>\n",
       "      <th>2</th>\n",
       "      <td>images/Yp1H0brV-VXZB-SZTa-PcFZ-Nes25RWxLgM4.jpg</td>\n",
       "      <td>artificial_roughness</td>\n",
       "    </tr>\n",
       "    <tr>\n",
       "      <th>3</th>\n",
       "      <td>images/VhuQ8Uqi-XxbK-TJwS-j5RN-ApJqVTBg0lbZ.jpg</td>\n",
       "      <td>artificial_roughness</td>\n",
       "    </tr>\n",
       "    <tr>\n",
       "      <th>4</th>\n",
       "      <td>images/LudjvYTM-V03e-BeaZ-6Sfj-bpeRzYmtG8Ew.jpg</td>\n",
       "      <td>artificial_roughness</td>\n",
       "    </tr>\n",
       "  </tbody>\n",
       "</table>\n",
       "</div>\n",
       "      <button class=\"colab-df-convert\" onclick=\"convertToInteractive('df-a9a56140-2498-4f7a-8fc4-59c55ced80a5')\"\n",
       "              title=\"Convert this dataframe to an interactive table.\"\n",
       "              style=\"display:none;\">\n",
       "\n",
       "  <svg xmlns=\"http://www.w3.org/2000/svg\" height=\"24px\"viewBox=\"0 0 24 24\"\n",
       "       width=\"24px\">\n",
       "    <path d=\"M0 0h24v24H0V0z\" fill=\"none\"/>\n",
       "    <path d=\"M18.56 5.44l.94 2.06.94-2.06 2.06-.94-2.06-.94-.94-2.06-.94 2.06-2.06.94zm-11 1L8.5 8.5l.94-2.06 2.06-.94-2.06-.94L8.5 2.5l-.94 2.06-2.06.94zm10 10l.94 2.06.94-2.06 2.06-.94-2.06-.94-.94-2.06-.94 2.06-2.06.94z\"/><path d=\"M17.41 7.96l-1.37-1.37c-.4-.4-.92-.59-1.43-.59-.52 0-1.04.2-1.43.59L10.3 9.45l-7.72 7.72c-.78.78-.78 2.05 0 2.83L4 21.41c.39.39.9.59 1.41.59.51 0 1.02-.2 1.41-.59l7.78-7.78 2.81-2.81c.8-.78.8-2.07 0-2.86zM5.41 20L4 18.59l7.72-7.72 1.47 1.35L5.41 20z\"/>\n",
       "  </svg>\n",
       "      </button>\n",
       "\n",
       "\n",
       "\n",
       "    <div id=\"df-60570933-eccb-4b4a-b0d3-409b7d38e9a6\">\n",
       "      <button class=\"colab-df-quickchart\" onclick=\"quickchart('df-60570933-eccb-4b4a-b0d3-409b7d38e9a6')\"\n",
       "              title=\"Suggest charts.\"\n",
       "              style=\"display:none;\">\n",
       "\n",
       "<svg xmlns=\"http://www.w3.org/2000/svg\" height=\"24px\"viewBox=\"0 0 24 24\"\n",
       "     width=\"24px\">\n",
       "    <g>\n",
       "        <path d=\"M19 3H5c-1.1 0-2 .9-2 2v14c0 1.1.9 2 2 2h14c1.1 0 2-.9 2-2V5c0-1.1-.9-2-2-2zM9 17H7v-7h2v7zm4 0h-2V7h2v10zm4 0h-2v-4h2v4z\"/>\n",
       "    </g>\n",
       "</svg>\n",
       "      </button>\n",
       "    </div>\n",
       "\n",
       "<style>\n",
       "  .colab-df-quickchart {\n",
       "    background-color: #E8F0FE;\n",
       "    border: none;\n",
       "    border-radius: 50%;\n",
       "    cursor: pointer;\n",
       "    display: none;\n",
       "    fill: #1967D2;\n",
       "    height: 32px;\n",
       "    padding: 0 0 0 0;\n",
       "    width: 32px;\n",
       "  }\n",
       "\n",
       "  .colab-df-quickchart:hover {\n",
       "    background-color: #E2EBFA;\n",
       "    box-shadow: 0px 1px 2px rgba(60, 64, 67, 0.3), 0px 1px 3px 1px rgba(60, 64, 67, 0.15);\n",
       "    fill: #174EA6;\n",
       "  }\n",
       "\n",
       "  [theme=dark] .colab-df-quickchart {\n",
       "    background-color: #3B4455;\n",
       "    fill: #D2E3FC;\n",
       "  }\n",
       "\n",
       "  [theme=dark] .colab-df-quickchart:hover {\n",
       "    background-color: #434B5C;\n",
       "    box-shadow: 0px 1px 3px 1px rgba(0, 0, 0, 0.15);\n",
       "    filter: drop-shadow(0px 1px 2px rgba(0, 0, 0, 0.3));\n",
       "    fill: #FFFFFF;\n",
       "  }\n",
       "</style>\n",
       "\n",
       "    <script>\n",
       "      async function quickchart(key) {\n",
       "        const containerElement = document.querySelector('#' + key);\n",
       "        const charts = await google.colab.kernel.invokeFunction(\n",
       "            'suggestCharts', [key], {});\n",
       "      }\n",
       "    </script>\n",
       "\n",
       "      <script>\n",
       "\n",
       "function displayQuickchartButton(domScope) {\n",
       "  let quickchartButtonEl =\n",
       "    domScope.querySelector('#df-60570933-eccb-4b4a-b0d3-409b7d38e9a6 button.colab-df-quickchart');\n",
       "  quickchartButtonEl.style.display =\n",
       "    google.colab.kernel.accessAllowed ? 'block' : 'none';\n",
       "}\n",
       "\n",
       "        displayQuickchartButton(document);\n",
       "      </script>\n",
       "      <style>\n",
       "    .colab-df-container {\n",
       "      display:flex;\n",
       "      flex-wrap:wrap;\n",
       "      gap: 12px;\n",
       "    }\n",
       "\n",
       "    .colab-df-convert {\n",
       "      background-color: #E8F0FE;\n",
       "      border: none;\n",
       "      border-radius: 50%;\n",
       "      cursor: pointer;\n",
       "      display: none;\n",
       "      fill: #1967D2;\n",
       "      height: 32px;\n",
       "      padding: 0 0 0 0;\n",
       "      width: 32px;\n",
       "    }\n",
       "\n",
       "    .colab-df-convert:hover {\n",
       "      background-color: #E2EBFA;\n",
       "      box-shadow: 0px 1px 2px rgba(60, 64, 67, 0.3), 0px 1px 3px 1px rgba(60, 64, 67, 0.15);\n",
       "      fill: #174EA6;\n",
       "    }\n",
       "\n",
       "    [theme=dark] .colab-df-convert {\n",
       "      background-color: #3B4455;\n",
       "      fill: #D2E3FC;\n",
       "    }\n",
       "\n",
       "    [theme=dark] .colab-df-convert:hover {\n",
       "      background-color: #434B5C;\n",
       "      box-shadow: 0px 1px 3px 1px rgba(0, 0, 0, 0.15);\n",
       "      filter: drop-shadow(0px 1px 2px rgba(0, 0, 0, 0.3));\n",
       "      fill: #FFFFFF;\n",
       "    }\n",
       "  </style>\n",
       "\n",
       "      <script>\n",
       "        const buttonEl =\n",
       "          document.querySelector('#df-a9a56140-2498-4f7a-8fc4-59c55ced80a5 button.colab-df-convert');\n",
       "        buttonEl.style.display =\n",
       "          google.colab.kernel.accessAllowed ? 'block' : 'none';\n",
       "\n",
       "        async function convertToInteractive(key) {\n",
       "          const element = document.querySelector('#df-a9a56140-2498-4f7a-8fc4-59c55ced80a5');\n",
       "          const dataTable =\n",
       "            await google.colab.kernel.invokeFunction('convertToInteractive',\n",
       "                                                     [key], {});\n",
       "          if (!dataTable) return;\n",
       "\n",
       "          const docLinkHtml = 'Like what you see? Visit the ' +\n",
       "            '<a target=\"_blank\" href=https://colab.research.google.com/notebooks/data_table.ipynb>data table notebook</a>'\n",
       "            + ' to learn more about interactive tables.';\n",
       "          element.innerHTML = '';\n",
       "          dataTable['output_type'] = 'display_data';\n",
       "          await google.colab.output.renderOutput(dataTable, element);\n",
       "          const docLink = document.createElement('div');\n",
       "          docLink.innerHTML = docLinkHtml;\n",
       "          element.appendChild(docLink);\n",
       "        }\n",
       "      </script>\n",
       "    </div>\n",
       "  </div>\n"
      ]
     },
     "metadata": {},
     "execution_count": 7
    }
   ]
  },
  {
   "cell_type": "code",
   "source": [
    "images = []\n",
    "labels = []"
   ],
   "metadata": {
    "id": "n7RxszSM319X"
   },
   "execution_count": 55,
   "outputs": []
  },
  {
   "cell_type": "code",
   "source": [
    "for i in tqdm(data.values):\n",
    "  # images.append(cv2.imread(\"drive/MyDrive/\" + i[0]))\n",
    "  labels.append(i[1])"
   ],
   "metadata": {
    "colab": {
     "base_uri": "https://localhost:8080/"
    },
    "id": "vwgD3naY32Af",
    "outputId": "e7b61b74-5cc4-4e52-cfba-b1d8dc053eeb"
   },
   "execution_count": 56,
   "outputs": [
    {
     "output_type": "stream",
     "name": "stderr",
     "text": [
      "100%|██████████| 2014/2014 [00:00<00:00, 1150078.73it/s]\n"
     ]
    }
   ]
  },
  {
   "cell_type": "code",
   "source": [
    "# with open(\"data.bf\", \"wb\") as file:\n",
    "#   pickle.dump(images, file)\n",
    "with open(\"data.bf\", \"rb\") as file:\n",
    "  images = pickle.load(file)"
   ],
   "metadata": {
    "id": "_aO1Z7jm5JT4"
   },
   "execution_count": 57,
   "outputs": []
  },
  {
   "cell_type": "code",
   "source": [
    "images = np.array(images)\n",
    "images.shape"
   ],
   "metadata": {
    "colab": {
     "base_uri": "https://localhost:8080/"
    },
    "id": "xvAn3HxIGT5A",
    "outputId": "46bf99ee-1e81-4da7-d5ec-42b81c70e959"
   },
   "execution_count": 58,
   "outputs": [
    {
     "output_type": "execute_result",
     "data": {
      "text/plain": [
       "(2014,)"
      ]
     },
     "metadata": {},
     "execution_count": 58
    }
   ]
  },
  {
   "cell_type": "code",
   "source": [
    "def show_results(model_history):\n",
    "    acc = model_history.history[\"accuracy\"]\n",
    "    val_acc = model_history.history['val_accuracy']\n",
    "    plt.figure(figsize=(16, 8))\n",
    "    plt.plot(np.arange(1, len(acc) + 1), acc, label='Training Accuracy')\n",
    "    plt.plot(np.arange(1, len(val_acc) + 1), val_acc, label='Validation Accuracy')\n",
    "    plt.legend(loc='lower right')\n",
    "    plt.title('Training Accuracy')\n",
    "    plt.show()"
   ],
   "metadata": {
    "id": "ipQvFNXP32Dn"
   },
   "execution_count": 59,
   "outputs": []
  },
  {
   "cell_type": "code",
   "source": [
    "encoder = LabelEncoder()"
   ],
   "metadata": {
    "id": "Oj5Lsv_X_R4-"
   },
   "execution_count": 60,
   "outputs": []
  },
  {
   "cell_type": "code",
   "source": [
    "labels = encoder.fit_transform(labels)"
   ],
   "metadata": {
    "id": "K_MfaDTq_QUN"
   },
   "execution_count": 61,
   "outputs": []
  },
  {
   "cell_type": "code",
   "source": [
    "for i in tqdm(range(len(images))):\n",
    "  images[i] = cv2.resize(images[i], (50, 50))"
   ],
   "metadata": {
    "colab": {
     "base_uri": "https://localhost:8080/"
    },
    "id": "xXsmLuVd_5nH",
    "outputId": "8b5a27b7-94a7-476a-bf29-0fa851ebfc05"
   },
   "execution_count": 62,
   "outputs": [
    {
     "output_type": "stream",
     "name": "stderr",
     "text": [
      "100%|██████████| 2014/2014 [00:00<00:00, 70014.57it/s]\n"
     ]
    }
   ]
  },
  {
   "cell_type": "code",
   "source": [
    "class SubPolicy(object):\n",
    "    def __init__(self, p1, operation1, magnitude_idx1, p2, operation2, magnitude_idx2, fillcolor=(128, 128, 128)):\n",
    "        ranges = {\n",
    "            \"shearY\": np.linspace(0, 0.3, 10),\n",
    "            \"translateX\": np.linspace(0, 150 / 331, 10),\n",
    "            \"translateY\": np.linspace(0, 150 / 331, 10),\n",
    "            \"rotate\": np.linspace(0, 30, 10),\n",
    "            \"color\": np.linspace(0.0, 0.9, 10),\n",
    "            \"posterize\": np.round(np.linspace(8, 4, 10), 0).astype(np.int),\n",
    "            \"solarize\": np.linspace(256, 0, 10),\n",
    "            \"contrast\": np.linspace(0.0, 0.9, 10),\n",
    "            \"sharpness\": np.linspace(0.0, 0.9, 10),\n",
    "            \"brightness\": np.linspace(0.0, 0.9, 10),\n",
    "            \"autocontrast\": [0] * 10,\n",
    "            \"equalize\": [0] * 10,\n",
    "            \"invert\": [0] * 10\n",
    "        }\n",
    "\n",
    "        func = {\n",
    "            \"shearY\": ShearY(fillcolor=fillcolor),\n",
    "            \"translateX\": TranslateX(fillcolor=fillcolor),\n",
    "            \"translateY\": TranslateY(fillcolor=fillcolor),\n",
    "            \"rotate\": Rotate(),\n",
    "            \"color\": Color(),\n",
    "            \"posterize\": Posterize(),\n",
    "            \"solarize\": Solarize(),\n",
    "            \"contrast\": Contrast(),\n",
    "            \"sharpness\": Sharpness(),\n",
    "            \"brightness\": Brightness(),\n",
    "            \"autocontrast\": AutoContrast(),\n",
    "            \"equalize\": Equalize(),\n",
    "            \"invert\": Invert()\n",
    "        }\n",
    "\n",
    "        self.p1 = p1\n",
    "        self.operation1 = func[operation1]\n",
    "        self.magnitude1 = ranges[operation1][magnitude_idx1]\n",
    "        self.p2 = p2\n",
    "        self.operation2 = func[operation2]\n",
    "        self.magnitude2 = ranges[operation2][magnitude_idx2]\n",
    "\n",
    "    def __call__(self, img):\n",
    "        if random.random() < self.p1:\n",
    "            img = self.operation1(img, self.magnitude1)\n",
    "        if random.random() < self.p2:\n",
    "            img = self.operation2(img, self.magnitude2)\n",
    "        return img"
   ],
   "metadata": {
    "id": "_J4o1S15Bv1A"
   },
   "execution_count": 63,
   "outputs": []
  },
  {
   "cell_type": "code",
   "source": [
    "class SVHNPolicy(object):\n",
    "    def __init__(self, fillcolor=(128, 128, 128)):\n",
    "        self.policies = [\n",
    "            SubPolicy(0.9, \"shearY\", 8, 0.7, \"invert\", 5, fillcolor),\n",
    "            SubPolicy(0.6, \"equalize\", 5, 0.6, \"solarize\", 6, fillcolor),\n",
    "            SubPolicy(0.9, \"invert\", 3, 0.6, \"equalize\", 3, fillcolor),\n",
    "            SubPolicy(0.6, \"equalize\", 1, 0.9, \"rotate\", 3, fillcolor),\n",
    "            SubPolicy(0.9, \"shearY\", 8, 0.4, \"invert\", 5, fillcolor),\n",
    "            SubPolicy(0.9, \"shearY\", 5, 0.2, \"solarize\", 6, fillcolor),\n",
    "            SubPolicy(0.9, \"invert\", 6, 0.8, \"autocontrast\", 1, fillcolor),\n",
    "            SubPolicy(0.6, \"equalize\", 3, 0.9, \"rotate\", 3, fillcolor),\n",
    "            SubPolicy(0.8, \"shearY\", 8, 0.7, \"invert\", 4, fillcolor),\n",
    "            SubPolicy(0.9, \"equalize\", 5, 0.6, \"translateY\", 6, fillcolor),\n",
    "            SubPolicy(0.9, \"invert\", 4, 0.6, \"equalize\", 7, fillcolor),\n",
    "            SubPolicy(0.3, \"contrast\", 3, 0.8, \"rotate\", 4, fillcolor),\n",
    "            SubPolicy(0.8, \"invert\", 5, 0.0, \"translateY\", 2, fillcolor),\n",
    "            SubPolicy(0.7, \"shearY\", 6, 0.4, \"solarize\", 8, fillcolor),\n",
    "            SubPolicy(0.6, \"invert\", 4, 0.8, \"rotate\", 4, fillcolor),\n",
    "            SubPolicy(0.3, \"shearY\", 7, 0.9, \"translateX\", 3, fillcolor),\n",
    "            SubPolicy(0.7, \"solarize\", 2, 0.6, \"translateY\", 7, fillcolor),\n",
    "            SubPolicy(0.8, \"shearY\", 4, 0.8, \"invert\", 8, fillcolor),\n",
    "            SubPolicy(0.8, \"shearY\", 5, 0.7, \"autocontrast\", 3, fillcolor)\n",
    "        ]\n",
    "\n",
    "    def __call__(self, img):\n",
    "        policy_idx = random.randint(0, len(self.policies) - 1)\n",
    "        return self.policies[policy_idx](Image.fromarray(img))"
   ],
   "metadata": {
    "id": "Vk-jhaQwCH4O"
   },
   "execution_count": 64,
   "outputs": []
  },
  {
   "cell_type": "code",
   "source": [
    "class ShearY(object):\n",
    "    def __init__(self, fillcolor=(128, 128, 128)):\n",
    "        self.fillcolor = fillcolor\n",
    "\n",
    "    def __call__(self, x, magnitude):\n",
    "        return x.transform(\n",
    "            x.size, Image.AFFINE, (1, 0, 0, magnitude * random.choice([-1, 1]), 1, 0),\n",
    "            Image.BICUBIC, fillcolor=self.fillcolor)\n",
    "\n",
    "\n",
    "class TranslateX(object):\n",
    "    def __init__(self, fillcolor=(128, 128, 128)):\n",
    "        self.fillcolor = fillcolor\n",
    "\n",
    "    def __call__(self, x, magnitude):\n",
    "        return x.transform(\n",
    "            x.size, Image.AFFINE, (1, 0, magnitude * x.size[0] * random.choice([-1, 1]), 0, 1, 0),\n",
    "            fillcolor=self.fillcolor)\n",
    "\n",
    "\n",
    "class TranslateY(object):\n",
    "    def __init__(self, fillcolor=(128, 128, 128)):\n",
    "        self.fillcolor = fillcolor\n",
    "\n",
    "    def __call__(self, x, magnitude):\n",
    "        return x.transform(\n",
    "            x.size, Image.AFFINE, (1, 0, 0, 0, 1, magnitude * x.size[1] * random.choice([-1, 1])),\n",
    "            fillcolor=self.fillcolor)\n",
    "\n",
    "\n",
    "class Rotate(object):\n",
    "    def __call__(self, x, magnitude):\n",
    "        rot = x.convert(\"RGBA\").rotate(magnitude * random.choice([-1, 1]))\n",
    "        return Image.composite(rot, Image.new(\"RGBA\", rot.size, (128,) * 4), rot).convert(x.mode)\n",
    "\n",
    "\n",
    "class Color(object):\n",
    "    def __call__(self, x, magnitude):\n",
    "        return ImageEnhance.Color(x).enhance(1 + magnitude * random.choice([-1, 1]))\n",
    "\n",
    "\n",
    "class Posterize(object):\n",
    "    def __call__(self, x, magnitude):\n",
    "        return ImageOps.posterize(x, magnitude)\n",
    "\n",
    "\n",
    "class Solarize(object):\n",
    "    def __call__(self, x, magnitude):\n",
    "        return ImageOps.solarize(x, magnitude)\n",
    "\n",
    "\n",
    "class Contrast(object):\n",
    "    def __call__(self, x, magnitude):\n",
    "        return ImageEnhance.Contrast(x).enhance(1 + magnitude * random.choice([-1, 1]))\n",
    "\n",
    "\n",
    "class Sharpness(object):\n",
    "    def __call__(self, x, magnitude):\n",
    "        return ImageEnhance.Sharpness(x).enhance(1 + magnitude * random.choice([-1, 1]))\n",
    "\n",
    "\n",
    "class Brightness(object):\n",
    "    def __call__(self, x, magnitude):\n",
    "        return ImageEnhance.Brightness(x).enhance(1 + magnitude * random.choice([-1, 1]))\n",
    "\n",
    "\n",
    "class AutoContrast(object):\n",
    "    def __call__(self, x, magnitude):\n",
    "        return ImageOps.autocontrast(x)\n",
    "\n",
    "\n",
    "class Equalize(object):\n",
    "    def __call__(self, x, magnitude):\n",
    "        return ImageOps.equalize(x)\n",
    "\n",
    "\n",
    "class Invert(object):\n",
    "    def __call__(self, x, magnitude):\n",
    "        return ImageOps.invert(x)"
   ],
   "metadata": {
    "id": "mtcZKW3wCMCi"
   },
   "execution_count": 65,
   "outputs": []
  },
  {
   "cell_type": "code",
   "source": [
    "images = np.array(list(images))\n",
    "images.shape"
   ],
   "metadata": {
    "colab": {
     "base_uri": "https://localhost:8080/"
    },
    "id": "akWCQGtw5gqj",
    "outputId": "91174551-6527-49fc-a667-bf3a76ad4aec"
   },
   "execution_count": 66,
   "outputs": [
    {
     "output_type": "execute_result",
     "data": {
      "text/plain": [
       "(2014, 50, 50, 3)"
      ]
     },
     "metadata": {},
     "execution_count": 66
    }
   ]
  },
  {
   "cell_type": "code",
   "source": [
    "from tensorflow.python.ops.logging_ops import ImageSummary\n",
    "policy = SVHNPolicy()\n",
    "img_data_train = images.copy()\n",
    "imgs = img_data_train\n",
    "lbl_data_train = labels.copy()\n",
    "lbls = lbl_data_train\n",
    "for i in range(10):\n",
    "    img_data_train = np.concatenate((img_data_train, np.array(list(map(lambda x: np.asarray(policy(x)), imgs))).astype('uint8')))\n",
    "    lbl_data_train = np.concatenate((lbl_data_train, lbls))\n",
    "    print(len(lbl_data_train), img_data_train.shape)"
   ],
   "metadata": {
    "colab": {
     "base_uri": "https://localhost:8080/"
    },
    "id": "iIE18t5wCZv6",
    "outputId": "6a6c3627-dc1d-469b-da58-d77d1b185bc6"
   },
   "execution_count": 67,
   "outputs": [
    {
     "output_type": "stream",
     "name": "stdout",
     "text": [
      "4028 (4028, 50, 50, 3)\n",
      "6042 (6042, 50, 50, 3)\n",
      "8056 (8056, 50, 50, 3)\n",
      "10070 (10070, 50, 50, 3)\n",
      "12084 (12084, 50, 50, 3)\n",
      "14098 (14098, 50, 50, 3)\n",
      "16112 (16112, 50, 50, 3)\n",
      "18126 (18126, 50, 50, 3)\n",
      "20140 (20140, 50, 50, 3)\n",
      "22154 (22154, 50, 50, 3)\n"
     ]
    }
   ]
  },
  {
   "cell_type": "code",
   "source": [
    "train_images, validation_images, train_labels, validation_labels = train_test_split(img_data_train, lbl_data_train, test_size=0.15, random_state=22)\n"
   ],
   "metadata": {
    "id": "ZduRlNeEC0OL"
   },
   "execution_count": 68,
   "outputs": []
  },
  {
   "cell_type": "code",
   "source": [
    "batch_size = 128\n",
    "\n",
    "train_dataset = tf.data.Dataset.from_tensor_slices((train_images, train_labels))\n",
    "\n",
    "val_dataset = tf.data.Dataset.from_tensor_slices((validation_images, validation_labels))"
   ],
   "metadata": {
    "id": "PKdIMnSSC8r-"
   },
   "execution_count": 69,
   "outputs": []
  },
  {
   "cell_type": "code",
   "source": [
    "train_dataset = train_dataset.shuffle(buffer_size=1024, reshuffle_each_iteration=True)\n",
    "train_dataset = train_dataset.batch(batch_size)\n",
    "\n",
    "val_dataset = val_dataset.batch(batch_size)"
   ],
   "metadata": {
    "id": "Da6spavLC-ht"
   },
   "execution_count": 70,
   "outputs": []
  },
  {
   "cell_type": "code",
   "source": [
    "tf.keras.backend.clear_session()\n",
    "inp =  tf.keras.layers.Input(shape=(50, 50, 3))\n",
    "la1 = tf.keras.layers.Conv2D(32, (3, 3), padding='same', activation='relu', input_shape=(32, 32, 3))(inp)\n",
    "la2 = tf.keras.layers.BatchNormalization()(la1)\n",
    "la3 = tf.keras.layers.Conv2D(32, (3, 3), padding='same', activation='relu')(la2)\n",
    "la4 = tf.keras.layers.MaxPooling2D((2, 2))(la3)\n",
    "laforadd1 = tf.keras.layers.Conv2D(32, (3, 3), padding='same', activation='relu')(la4)\n",
    "add1 = tf.keras.layers.Add()([la4, laforadd1])\n",
    "la5 = tf.keras.layers.Dropout(0.3)(add1)\n",
    "la6 = tf.keras.layers.Conv2D(64, (3, 3), padding='same', activation='relu')(la5)\n",
    "la7 = tf.keras.layers.BatchNormalization()(la6)\n",
    "la8 = tf.keras.layers.Conv2D(64, (3, 3), padding='same',activation='relu')(la7)\n",
    "la9 = tf.keras.layers.MaxPooling2D((2, 2))(la8)\n",
    "laforadd2 = tf.keras.layers.Conv2D(64, (3, 3), padding='same', activation='relu')(la9)\n",
    "add2 = tf.keras.layers.Add()([la9, laforadd2])\n",
    "la10 = tf.keras.layers.Dropout(0.3)(add2)\n",
    "la11 = tf.keras.layers.Conv2D(128, (3, 3), padding='same', activation='relu')(la10)\n",
    "la12 = tf.keras.layers.BatchNormalization()(la11)\n",
    "la13 = tf.keras.layers.Conv2D(128, (3, 3), padding='same',activation='relu')(la12)\n",
    "la14 = tf.keras.layers.MaxPooling2D((2, 2))(la13)\n",
    "laforadd3 = tf.keras.layers.Conv2D(128, (3, 3), padding='same', activation='relu')(la14)\n",
    "add3 = tf.keras.layers.Add()([la14, laforadd3])\n",
    "la15 = tf.keras.layers.Dropout(0.3)(add3)\n",
    "la16 = tf.keras.layers.Flatten()(la15)\n",
    "la17 = tf.keras.layers.Dense(128, activation='relu')(la16)\n",
    "la18 = tf.keras.layers.Dropout(0.4)(la17)\n",
    "la19 = tf.keras.layers.Dense(8,  activation='softmax')(la18)\n",
    "model = tf.keras.Model(inputs=inp, outputs=la19)\n",
    "early_stopping = tf.keras.callbacks.EarlyStopping(patience=8)\n",
    "model_checkpoint = tf.keras.callbacks.ModelCheckpoint('best_cnn.h5', save_best_only=True)\n",
    "optimizer = tf.keras.optimizers.Adam(lr=1e-3, amsgrad=True)\n",
    "model.compile(optimizer=optimizer, loss='sparse_categorical_crossentropy', metrics=['accuracy'])"
   ],
   "metadata": {
    "colab": {
     "base_uri": "https://localhost:8080/"
    },
    "id": "SPdaBEHEDCNf",
    "outputId": "e7bce73c-6d1e-46f5-bf79-ada344b1fa89"
   },
   "execution_count": 71,
   "outputs": [
    {
     "output_type": "stream",
     "name": "stderr",
     "text": [
      "WARNING:absl:`lr` is deprecated in Keras optimizer, please use `learning_rate` or use the legacy optimizer, e.g.,tf.keras.optimizers.legacy.Adam.\n"
     ]
    }
   ]
  },
  {
   "cell_type": "code",
   "source": [
    "model.summary()"
   ],
   "metadata": {
    "colab": {
     "base_uri": "https://localhost:8080/"
    },
    "id": "OxtaBo3RDMvr",
    "outputId": "58e1684d-61b0-47e6-986d-6e269e945d8d"
   },
   "execution_count": 72,
   "outputs": [
    {
     "output_type": "stream",
     "name": "stdout",
     "text": [
      "Model: \"model\"\n",
      "__________________________________________________________________________________________________\n",
      " Layer (type)                   Output Shape         Param #     Connected to                     \n",
      "==================================================================================================\n",
      " input_1 (InputLayer)           [(None, 50, 50, 3)]  0           []                               \n",
      "                                                                                                  \n",
      " conv2d (Conv2D)                (None, 50, 50, 32)   896         ['input_1[0][0]']                \n",
      "                                                                                                  \n",
      " batch_normalization (BatchNorm  (None, 50, 50, 32)  128         ['conv2d[0][0]']                 \n",
      " alization)                                                                                       \n",
      "                                                                                                  \n",
      " conv2d_1 (Conv2D)              (None, 50, 50, 32)   9248        ['batch_normalization[0][0]']    \n",
      "                                                                                                  \n",
      " max_pooling2d (MaxPooling2D)   (None, 25, 25, 32)   0           ['conv2d_1[0][0]']               \n",
      "                                                                                                  \n",
      " conv2d_2 (Conv2D)              (None, 25, 25, 32)   9248        ['max_pooling2d[0][0]']          \n",
      "                                                                                                  \n",
      " add (Add)                      (None, 25, 25, 32)   0           ['max_pooling2d[0][0]',          \n",
      "                                                                  'conv2d_2[0][0]']               \n",
      "                                                                                                  \n",
      " dropout (Dropout)              (None, 25, 25, 32)   0           ['add[0][0]']                    \n",
      "                                                                                                  \n",
      " conv2d_3 (Conv2D)              (None, 25, 25, 64)   18496       ['dropout[0][0]']                \n",
      "                                                                                                  \n",
      " batch_normalization_1 (BatchNo  (None, 25, 25, 64)  256         ['conv2d_3[0][0]']               \n",
      " rmalization)                                                                                     \n",
      "                                                                                                  \n",
      " conv2d_4 (Conv2D)              (None, 25, 25, 64)   36928       ['batch_normalization_1[0][0]']  \n",
      "                                                                                                  \n",
      " max_pooling2d_1 (MaxPooling2D)  (None, 12, 12, 64)  0           ['conv2d_4[0][0]']               \n",
      "                                                                                                  \n",
      " conv2d_5 (Conv2D)              (None, 12, 12, 64)   36928       ['max_pooling2d_1[0][0]']        \n",
      "                                                                                                  \n",
      " add_1 (Add)                    (None, 12, 12, 64)   0           ['max_pooling2d_1[0][0]',        \n",
      "                                                                  'conv2d_5[0][0]']               \n",
      "                                                                                                  \n",
      " dropout_1 (Dropout)            (None, 12, 12, 64)   0           ['add_1[0][0]']                  \n",
      "                                                                                                  \n",
      " conv2d_6 (Conv2D)              (None, 12, 12, 128)  73856       ['dropout_1[0][0]']              \n",
      "                                                                                                  \n",
      " batch_normalization_2 (BatchNo  (None, 12, 12, 128)  512        ['conv2d_6[0][0]']               \n",
      " rmalization)                                                                                     \n",
      "                                                                                                  \n",
      " conv2d_7 (Conv2D)              (None, 12, 12, 128)  147584      ['batch_normalization_2[0][0]']  \n",
      "                                                                                                  \n",
      " max_pooling2d_2 (MaxPooling2D)  (None, 6, 6, 128)   0           ['conv2d_7[0][0]']               \n",
      "                                                                                                  \n",
      " conv2d_8 (Conv2D)              (None, 6, 6, 128)    147584      ['max_pooling2d_2[0][0]']        \n",
      "                                                                                                  \n",
      " add_2 (Add)                    (None, 6, 6, 128)    0           ['max_pooling2d_2[0][0]',        \n",
      "                                                                  'conv2d_8[0][0]']               \n",
      "                                                                                                  \n",
      " dropout_2 (Dropout)            (None, 6, 6, 128)    0           ['add_2[0][0]']                  \n",
      "                                                                                                  \n",
      " flatten (Flatten)              (None, 4608)         0           ['dropout_2[0][0]']              \n",
      "                                                                                                  \n",
      " dense (Dense)                  (None, 128)          589952      ['flatten[0][0]']                \n",
      "                                                                                                  \n",
      " dropout_3 (Dropout)            (None, 128)          0           ['dense[0][0]']                  \n",
      "                                                                                                  \n",
      " dense_1 (Dense)                (None, 8)            1032        ['dropout_3[0][0]']              \n",
      "                                                                                                  \n",
      "==================================================================================================\n",
      "Total params: 1,072,648\n",
      "Trainable params: 1,072,200\n",
      "Non-trainable params: 448\n",
      "__________________________________________________________________________________________________\n"
     ]
    }
   ]
  },
  {
   "cell_type": "code",
   "source": [
    "model_history = model.fit(train_dataset, validation_data=val_dataset, epochs=100, callbacks=[early_stopping, PlotLossesKeras()], verbose=False)\n"
   ],
   "metadata": {
    "colab": {
     "base_uri": "https://localhost:8080/",
     "height": 869
    },
    "id": "StU51pODDP21",
    "outputId": "3ebb5019-6940-4b6d-a692-8a36a899524a"
   },
   "execution_count": 73,
   "outputs": [
    {
     "output_type": "display_data",
     "data": {
      "text/plain": [
       "<Figure size 1200x800 with 2 Axes>"
      ],
      "image/png": "[encoded data removed]"
     },
     "metadata": {}
    },
    {
     "output_type": "stream",
     "name": "stdout",
     "text": [
      "accuracy\n",
      "\ttraining         \t (min:    0.172, max:    0.979, cur:    0.979)\n",
      "\tvalidation       \t (min:    0.274, max:    0.998, cur:    0.996)\n",
      "Loss\n",
      "\ttraining         \t (min:    0.038, max:    2.216, cur:    0.039)\n",
      "\tvalidation       \t (min:    0.014, max:    1.885, cur:    0.019)\n"
     ]
    }
   ]
  },
  {
   "cell_type": "code",
   "source": [
    "show_results(model_history)"
   ],
   "metadata": {
    "colab": {
     "base_uri": "https://localhost:8080/",
     "height": 616
    },
    "id": "p82BpgJQDcS4",
    "outputId": "b096cd85-9a11-4340-a57b-21e67914f284"
   },
   "execution_count": 74,
   "outputs": [
    {
     "output_type": "display_data",
     "data": {
      "text/plain": [
       "<Figure size 1600x800 with 1 Axes>"
      ],
      "image/png": "[encoded data removed]"
     },
     "metadata": {}
    }
   ]
  },
  {
   "cell_type": "code",
   "source": [
    "from sklearn.metrics import classification_report"
   ],
   "metadata": {
    "id": "Z2Xc5OBzEOhg"
   },
   "execution_count": 75,
   "outputs": []
  },
  {
   "cell_type": "code",
   "source": [
    "print(classification_report(labels, np.argmax(model.predict(images), -1)))"
   ],
   "metadata": {
    "colab": {
     "base_uri": "https://localhost:8080/"
    },
    "id": "xXdqtRvfEW5N",
    "outputId": "c7004e88-6cfa-4acb-ce2d-3bfa9131807e"
   },
   "execution_count": 76,
   "outputs": [
    {
     "output_type": "stream",
     "name": "stdout",
     "text": [
      "63/63 [==============================] - 1s 4ms/step\n",
      "              precision    recall  f1-score   support\n",
      "\n",
      "           0       1.00      1.00      1.00       227\n",
      "           1       1.00      1.00      1.00       161\n",
      "           2       1.00      1.00      1.00       243\n",
      "           3       1.00      1.00      1.00       280\n",
      "           4       1.00      1.00      1.00       260\n",
      "           5       1.00      1.00      1.00       284\n",
      "           6       1.00      1.00      1.00       312\n",
      "           7       1.00      1.00      1.00       247\n",
      "\n",
      "    accuracy                           1.00      2014\n",
      "   macro avg       1.00      1.00      1.00      2014\n",
      "weighted avg       1.00      1.00      1.00      2014\n",
      "\n"
     ]
    }
   ]
  },
  {
   "cell_type": "code",
   "source": [
    "np.argmax(model.predict(images), -1)"
   ],
   "metadata": {
    "colab": {
     "base_uri": "https://localhost:8080/"
    },
    "id": "7ei6cqbaEbP3",
    "outputId": "12a55921-f31a-41cb-aa1d-d88ce2f8c2e3"
   },
   "execution_count": 77,
   "outputs": [
    {
     "output_type": "stream",
     "name": "stdout",
     "text": [
      "63/63 [==============================] - 0s 2ms/step\n"
     ]
    },
    {
     "output_type": "execute_result",
     "data": {
      "text/plain": [
       "array([0, 0, 0, ..., 7, 7, 7])"
      ]
     },
     "metadata": {},
     "execution_count": 77
    }
   ]
  },
  {
   "cell_type": "code",
   "source": [
    "with open(\"encoder.bf\", \"wb\") as file:\n",
    "  pickle.dump(encoder, file)"
   ],
   "metadata": {
    "id": "iXW9V8whEdTh"
   },
   "execution_count": 78,
   "outputs": []
  },
  {
   "cell_type": "code",
   "source": [
    "model.save(\"drive/MyDrive/model\")"
   ],
   "metadata": {
    "colab": {
     "base_uri": "https://localhost:8080/"
    },
    "id": "kAP21JucFNNN",
    "outputId": "483663ea-651b-45cc-abff-d83b04b2d2c7"
   },
   "execution_count": 80,
   "outputs": [
    {
     "output_type": "stream",
     "name": "stderr",
     "text": [
      "WARNING:absl:Found untraced functions such as _jit_compiled_convolution_op, _jit_compiled_convolution_op, _jit_compiled_convolution_op, _jit_compiled_convolution_op, _jit_compiled_convolution_op while saving (showing 5 of 9). These functions will not be directly callable after loading.\n"
     ]
    }
   ]
  },
  {
   "cell_type": "code",
   "source": [
    "plt.imshow(train_images[2000])"
   ],
   "metadata": {
    "colab": {
     "base_uri": "https://localhost:8080/",
     "height": 448
    },
    "id": "7PveEyTYFswW",
    "outputId": "a6ab84a6-23fc-4d0c-8b87-26d6c866833e"
   },
   "execution_count": 83,
   "outputs": [
    {
     "output_type": "execute_result",
     "data": {
      "text/plain": [
       "<matplotlib.image.AxesImage at 0x7b782a959c90>"
      ]
     },
     "metadata": {},
     "execution_count": 83
    },
    {
     "output_type": "display_data",
     "data": {
      "text/plain": [
       "<Figure size 640x480 with 1 Axes>"
      ],
      "image/png": "[encoded data removed]"
     },
     "metadata": {}
    }
   ]
  },
  {
   "cell_type": "code",
   "source": [],
   "metadata": {
    "id": "0h1neJcl9yf_"
   },
   "execution_count": null,
   "outputs": []
  }
 ]
}
