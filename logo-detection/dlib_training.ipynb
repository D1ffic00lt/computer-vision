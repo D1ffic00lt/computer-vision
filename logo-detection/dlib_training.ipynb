{
 "cells": [
  {
   "cell_type": "code",
   "execution_count": 2,
   "metadata": {
    "collapsed": true
   },
   "outputs": [],
   "source": [
    "import cv2\n",
    "import pandas as pd\n",
    "import dlib\n",
    "import os"
   ]
  },
  {
   "cell_type": "code",
   "execution_count": 7,
   "outputs": [],
   "source": [
    "data = pd.read_csv(\"annotations.csv\")"
   ],
   "metadata": {
    "collapsed": false
   }
  },
  {
   "cell_type": "code",
   "execution_count": 9,
   "outputs": [
    {
     "data": {
      "text/plain": "                                              image    class    x    y    w  \\\n0   images/0abe872c-3a28-4c57-901b-291aa9f500d0.jpg      cpp  963  480  223   \n1   images/1257b89e-943e-4bc1-b274-ab4cfb60f156.jpg      avt   58  128  515   \n2   images/3471e58b-3a5b-45b7-a143-eaefed62487e.jpg  kruzhok  546   18  200   \n3   images/365aefb1-3e28-424a-96cb-cbd48dcf8404.jpg      avt   36    5  390   \n4   images/40ac19ae-0f36-4a1c-aa5c-ef9366516bc2.jpg  kruzhok  857  200  333   \n5   images/46a2d46c-0345-4c5a-a2d9-6a798e3d334c.jpg      avt  853    8  404   \n6   images/4f80f155-1558-441a-b7d5-c92d3feccced.jpg      avt  327  105  584   \n7   images/5c9f4c56-6f40-45ac-a9f3-c4759b94687c.jpg   python  863   35  293   \n8   images/6fcaa030-f2eb-41a4-beef-f2eea268db89.jpg      cpp  518  249  278   \n9   images/79874ddb-27f1-4d21-becc-b586078395b9.jpg   python  477  205  300   \n10  images/7c349b26-e253-4cce-afb5-24e8b7fb3c2e.jpg  kruzhok   62  168  435   \n11  images/7f3bc5a2-fc01-48af-a37b-4cf1b40d1274.jpg   python  675   33  543   \n12  images/80be2ba5-b4f4-44bf-97ce-b024f0cea79a.jpg      cpp   76  201  320   \n13  images/9e69fd86-76d1-47e7-9560-fd993da755df.jpg   python  139  410  258   \n14  images/a24392f8-7869-4eab-9b56-81d242a6af0b.jpg   altair  181  288  264   \n15  images/a9a3add3-69a4-4d18-8432-dd1c38a745d9.jpg   altair   52  214  313   \n16  images/b1d07547-67a2-45d9-80d6-91d0fcb1a0f9.jpg   altair  795  367  271   \n17  images/c0c26701-a894-4f1e-bb1d-9d6566f0e59d.jpg  kruzhok   74  215  301   \n18  images/c87b557a-1c9f-4141-9740-2aabd78775b1.jpg      cpp  797  118  446   \n19  images/d9e65bb9-5168-42a8-80f6-09c01b2f1571.jpg   altair   44  267  430   \n\n      h  \n0   234  \n1   407  \n2   214  \n3   311  \n4   316  \n5   319  \n6   452  \n7   301  \n8   285  \n9   292  \n10  446  \n11  556  \n12  331  \n13  268  \n14  272  \n15  304  \n16  279  \n17  283  \n18  475  \n19  425  ",
      "text/html": "<div>\n<style scoped>\n    .dataframe tbody tr th:only-of-type {\n        vertical-align: middle;\n    }\n\n    .dataframe tbody tr th {\n        vertical-align: top;\n    }\n\n    .dataframe thead th {\n        text-align: right;\n    }\n</style>\n<table border=\"1\" class=\"dataframe\">\n  <thead>\n    <tr style=\"text-align: right;\">\n      <th></th>\n      <th>image</th>\n      <th>class</th>\n      <th>x</th>\n      <th>y</th>\n      <th>w</th>\n      <th>h</th>\n    </tr>\n  </thead>\n  <tbody>\n    <tr>\n      <th>0</th>\n      <td>images/0abe872c-3a28-4c57-901b-291aa9f500d0.jpg</td>\n      <td>cpp</td>\n      <td>963</td>\n      <td>480</td>\n      <td>223</td>\n      <td>234</td>\n    </tr>\n    <tr>\n      <th>1</th>\n      <td>images/1257b89e-943e-4bc1-b274-ab4cfb60f156.jpg</td>\n      <td>avt</td>\n      <td>58</td>\n      <td>128</td>\n      <td>515</td>\n      <td>407</td>\n    </tr>\n    <tr>\n      <th>2</th>\n      <td>images/3471e58b-3a5b-45b7-a143-eaefed62487e.jpg</td>\n      <td>kruzhok</td>\n      <td>546</td>\n      <td>18</td>\n      <td>200</td>\n      <td>214</td>\n    </tr>\n    <tr>\n      <th>3</th>\n      <td>images/365aefb1-3e28-424a-96cb-cbd48dcf8404.jpg</td>\n      <td>avt</td>\n      <td>36</td>\n      <td>5</td>\n      <td>390</td>\n      <td>311</td>\n    </tr>\n    <tr>\n      <th>4</th>\n      <td>images/40ac19ae-0f36-4a1c-aa5c-ef9366516bc2.jpg</td>\n      <td>kruzhok</td>\n      <td>857</td>\n      <td>200</td>\n      <td>333</td>\n      <td>316</td>\n    </tr>\n    <tr>\n      <th>5</th>\n      <td>images/46a2d46c-0345-4c5a-a2d9-6a798e3d334c.jpg</td>\n      <td>avt</td>\n      <td>853</td>\n      <td>8</td>\n      <td>404</td>\n      <td>319</td>\n    </tr>\n    <tr>\n      <th>6</th>\n      <td>images/4f80f155-1558-441a-b7d5-c92d3feccced.jpg</td>\n      <td>avt</td>\n      <td>327</td>\n      <td>105</td>\n      <td>584</td>\n      <td>452</td>\n    </tr>\n    <tr>\n      <th>7</th>\n      <td>images/5c9f4c56-6f40-45ac-a9f3-c4759b94687c.jpg</td>\n      <td>python</td>\n      <td>863</td>\n      <td>35</td>\n      <td>293</td>\n      <td>301</td>\n    </tr>\n    <tr>\n      <th>8</th>\n      <td>images/6fcaa030-f2eb-41a4-beef-f2eea268db89.jpg</td>\n      <td>cpp</td>\n      <td>518</td>\n      <td>249</td>\n      <td>278</td>\n      <td>285</td>\n    </tr>\n    <tr>\n      <th>9</th>\n      <td>images/79874ddb-27f1-4d21-becc-b586078395b9.jpg</td>\n      <td>python</td>\n      <td>477</td>\n      <td>205</td>\n      <td>300</td>\n      <td>292</td>\n    </tr>\n    <tr>\n      <th>10</th>\n      <td>images/7c349b26-e253-4cce-afb5-24e8b7fb3c2e.jpg</td>\n      <td>kruzhok</td>\n      <td>62</td>\n      <td>168</td>\n      <td>435</td>\n      <td>446</td>\n    </tr>\n    <tr>\n      <th>11</th>\n      <td>images/7f3bc5a2-fc01-48af-a37b-4cf1b40d1274.jpg</td>\n      <td>python</td>\n      <td>675</td>\n      <td>33</td>\n      <td>543</td>\n      <td>556</td>\n    </tr>\n    <tr>\n      <th>12</th>\n      <td>images/80be2ba5-b4f4-44bf-97ce-b024f0cea79a.jpg</td>\n      <td>cpp</td>\n      <td>76</td>\n      <td>201</td>\n      <td>320</td>\n      <td>331</td>\n    </tr>\n    <tr>\n      <th>13</th>\n      <td>images/9e69fd86-76d1-47e7-9560-fd993da755df.jpg</td>\n      <td>python</td>\n      <td>139</td>\n      <td>410</td>\n      <td>258</td>\n      <td>268</td>\n    </tr>\n    <tr>\n      <th>14</th>\n      <td>images/a24392f8-7869-4eab-9b56-81d242a6af0b.jpg</td>\n      <td>altair</td>\n      <td>181</td>\n      <td>288</td>\n      <td>264</td>\n      <td>272</td>\n    </tr>\n    <tr>\n      <th>15</th>\n      <td>images/a9a3add3-69a4-4d18-8432-dd1c38a745d9.jpg</td>\n      <td>altair</td>\n      <td>52</td>\n      <td>214</td>\n      <td>313</td>\n      <td>304</td>\n    </tr>\n    <tr>\n      <th>16</th>\n      <td>images/b1d07547-67a2-45d9-80d6-91d0fcb1a0f9.jpg</td>\n      <td>altair</td>\n      <td>795</td>\n      <td>367</td>\n      <td>271</td>\n      <td>279</td>\n    </tr>\n    <tr>\n      <th>17</th>\n      <td>images/c0c26701-a894-4f1e-bb1d-9d6566f0e59d.jpg</td>\n      <td>kruzhok</td>\n      <td>74</td>\n      <td>215</td>\n      <td>301</td>\n      <td>283</td>\n    </tr>\n    <tr>\n      <th>18</th>\n      <td>images/c87b557a-1c9f-4141-9740-2aabd78775b1.jpg</td>\n      <td>cpp</td>\n      <td>797</td>\n      <td>118</td>\n      <td>446</td>\n      <td>475</td>\n    </tr>\n    <tr>\n      <th>19</th>\n      <td>images/d9e65bb9-5168-42a8-80f6-09c01b2f1571.jpg</td>\n      <td>altair</td>\n      <td>44</td>\n      <td>267</td>\n      <td>430</td>\n      <td>425</td>\n    </tr>\n  </tbody>\n</table>\n</div>"
     },
     "execution_count": 9,
     "metadata": {},
     "output_type": "execute_result"
    }
   ],
   "source": [
    "data"
   ],
   "metadata": {
    "collapsed": false
   }
  },
  {
   "cell_type": "code",
   "execution_count": 12,
   "outputs": [],
   "source": [
    "images = []\n",
    "bounding_boxes = []\n",
    "for i in data.loc[data[\"class\"] == \"avt\"].values:\n",
    "    images.append(cv2.imread(i[0]))\n",
    "    bounding_boxes.append((i[-4], i[-3], i[-2], i[-1]))"
   ],
   "metadata": {
    "collapsed": false
   }
  },
  {
   "cell_type": "code",
   "execution_count": 13,
   "outputs": [],
   "source": [
    "options = dlib.simple_object_detector_training_options()\n",
    "options.add_left_right_image_flips = False\n",
    "options.C = 5"
   ],
   "metadata": {
    "collapsed": false
   }
  },
  {
   "cell_type": "code",
   "execution_count": 14,
   "outputs": [
    {
     "ename": "RuntimeError",
     "evalue": "Unable to cast Python instance to C++ type (#define PYBIND11_DETAILED_ERROR_MESSAGES or compile in debug mode for details)",
     "output_type": "error",
     "traceback": [
      "\u001B[0;31m---------------------------------------------------------------------------\u001B[0m",
      "\u001B[0;31mRuntimeError\u001B[0m                              Traceback (most recent call last)",
      "Cell \u001B[0;32mIn[14], line 1\u001B[0m\n\u001B[0;32m----> 1\u001B[0m detector \u001B[38;5;241m=\u001B[39m \u001B[43mdlib\u001B[49m\u001B[38;5;241;43m.\u001B[39;49m\u001B[43mtrain_simple_object_detector\u001B[49m\u001B[43m(\u001B[49m\u001B[43mimages\u001B[49m\u001B[43m,\u001B[49m\u001B[43m \u001B[49m\u001B[43mbounding_boxes\u001B[49m\u001B[43m,\u001B[49m\u001B[43m \u001B[49m\u001B[43moptions\u001B[49m\u001B[43m)\u001B[49m\n",
      "\u001B[0;31mRuntimeError\u001B[0m: Unable to cast Python instance to C++ type (#define PYBIND11_DETAILED_ERROR_MESSAGES or compile in debug mode for details)"
     ]
    }
   ],
   "source": [
    "detector = dlib.train_simple_object_detector(images, bounding_boxes, options)"
   ],
   "metadata": {
    "collapsed": false
   }
  },
  {
   "cell_type": "code",
   "execution_count": null,
   "outputs": [],
   "source": [],
   "metadata": {
    "collapsed": false
   }
  },
  {
   "cell_type": "code",
   "execution_count": null,
   "outputs": [],
   "source": [
    "file_name = 'detector.svm'\n",
    "detector.save(file_name)"
   ],
   "metadata": {
    "collapsed": false
   }
  }
 ],
 "metadata": {
  "kernelspec": {
   "display_name": "Python 3",
   "language": "python",
   "name": "python3"
  },
  "language_info": {
   "codemirror_mode": {
    "name": "ipython",
    "version": 2
   },
   "file_extension": ".py",
   "mimetype": "text/x-python",
   "name": "python",
   "nbconvert_exporter": "python",
   "pygments_lexer": "ipython2",
   "version": "2.7.6"
  }
 },
 "nbformat": 4,
 "nbformat_minor": 0
}
